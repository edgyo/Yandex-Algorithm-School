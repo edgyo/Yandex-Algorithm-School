{
 "cells": [
  {
   "cell_type": "markdown",
   "metadata": {},
   "source": [
    "# Множества\n",
    "\n",
    "Что должно уметь делать множество?\n",
    "- Добавлять элемент\n",
    "- Проверять налчие в множестве\n",
    "- Удалять элемент\n",
    "\n",
    "Хэш-функция - преобразующая из большого числа в маленькое\n",
    "\n",
    "В хэш-таблице порядок не важен"
   ]
  },
  {
   "cell_type": "code",
   "execution_count": null,
   "metadata": {},
   "outputs": [],
   "source": [
    "# Делаем своё множество\n",
    "setsize = 10\n",
    "myset = [[] for _ in range(setsize)] # грубо говоря, массив массивов (список списков)\n",
    "\n",
    "def add(x):\n",
    "    myset[x % setsize].append(x) # хэшируем и добавляем\n",
    "\n",
    "def find(x):\n",
    "    for now in myset[x % setsize]: # ищем линейным поиском\n",
    "        if now == x:\n",
    "            return True\n",
    "    return False\n",
    "\n",
    "def delete(x):\n",
    "    xlist = myset[x % setsize] # выделяем массив по индексу\n",
    "    for i in range(len(xlist)):\n",
    "        if xlist[i] == x:\n",
    "            xlist[i], xlist[len(xlist) - 1] = xlist[len(xlist) - 1], xlist[i] # питонический способ поменять местами две переменных\n",
    "            # ^ также своп необязателен, т.к. мы все равно удаляем последний элемент, и его значение мы могли бы подставить в удаляемый элемент ^\n",
    "            xlist.pop()\n",
    "            return"
   ]
  },
  {
   "cell_type": "markdown",
   "metadata": {},
   "source": [
    "Выше мы реализовали **мульти**множество, т.к. ни при одной операции мы не проверяем, есть ли ещё такой элемент\n",
    "\n",
    "Если нужно реализовать только множество, то в операции добавления нужно добавить проверку на **уникальность** элемента\n",
    "\n",
    "### Термины\n",
    "\n",
    "F(x) = x % setsize - **хеш-функция**\n",
    "\n",
    "myset (список списков) - **хеш-таблица**\n",
    "\n",
    "**Коллизия** - совпадение значений хеш-функции для разных параметров\n",
    "\n",
    "- Хеш-функций много, остаток от деления - вполне неплохая\n",
    "\n",
    "### Что можно хранить в множестве эффективно\n",
    "\n",
    "- В целом, всё что угодно - в компьютере все состоит из чисел\n",
    "- *Эффективно* - только **неизменяемые** объекты! Для неизменяемых объектов можно посчитать хэш-функцию при создании\n",
    "- Хэш-функция должна давать равномерное распределение\n",
    "\n",
    "# Амортизированная сложность\n",
    "\n",
    "Проблемы с хеш-таблицей:\n",
    "\n",
    "Если у них слишком большой размер - ест много памяти O(N)\n",
    "\n",
    "Слишком маленький размер - большой коэффициент заполнения, медленный поиск, удаление O(K/N)\n",
    "\n",
    "Хочется иметь разумный баланс, например, коэффициент заполнения - не больше единицы (K <= N). Тогда все операции в среднем будут занимать О(1)\n",
    "\n",
    "### Просто решение\n",
    "Таблица заполнилась - увеличим ее размер вдвое!\n",
    "\n",
    "**Амортизированная сложность** - среднее время выполнения операции (условно). Если всего операций N и на это ушло O(N) времени, то амортизированная сложность операции - О(1)\n"
   ]
  },
  {
   "cell_type": "code",
   "execution_count": 8,
   "metadata": {},
   "outputs": [
    {
     "name": "stdout",
     "output_type": "stream",
     "text": [
      "64\n",
      "96\n",
      "96\n",
      "96\n",
      "96\n",
      "128\n"
     ]
    }
   ],
   "source": [
    "from sys import getsizeof\n",
    "lis = [1]\n",
    "print(getsizeof(lis))\n",
    "lis.append(2)\n",
    "print(getsizeof(lis))\n",
    "lis.append(3)\n",
    "print(getsizeof(lis))\n",
    "lis.append(5)\n",
    "print(getsizeof(lis))\n",
    "lis.append(1000)\n",
    "print(getsizeof(lis))\n",
    "lis.append(1000)\n",
    "print(getsizeof(lis))"
   ]
  },
  {
   "cell_type": "markdown",
   "metadata": {},
   "source": [
    "Задача 1\n",
    "\n",
    "Дана последовательность положительных чисел длиной N и число X\n",
    "\n",
    "Нужно найти такие A и B что A+X=X или вернуть 0,0"
   ]
  },
  {
   "cell_type": "code",
   "execution_count": 10,
   "metadata": {},
   "outputs": [
    {
     "name": "stdout",
     "output_type": "stream",
     "text": [
      "3 8\n"
     ]
    }
   ],
   "source": [
    "inplist = list(int(i) for i in input().split())\n",
    "x = int(input())\n",
    "ost_set = set()\n",
    "\n",
    "for i in inplist:\n",
    "    if i in ost_set:\n",
    "        print(x-i, i)\n",
    "        break\n",
    "    else:\n",
    "        ost_set.add(x-i)\n",
    "    \n"
   ]
  }
 ],
 "metadata": {
  "kernelspec": {
   "display_name": "Python 3.8.10 64-bit",
   "language": "python",
   "name": "python3"
  },
  "language_info": {
   "codemirror_mode": {
    "name": "ipython",
    "version": 3
   },
   "file_extension": ".py",
   "mimetype": "text/x-python",
   "name": "python",
   "nbconvert_exporter": "python",
   "pygments_lexer": "ipython3",
   "version": "3.8.10"
  },
  "orig_nbformat": 4,
  "vscode": {
   "interpreter": {
    "hash": "916dbcbb3f70747c44a77c7bcd40155683ae19c65e1c03b4aa3499c5328201f1"
   }
  }
 },
 "nbformat": 4,
 "nbformat_minor": 2
}
