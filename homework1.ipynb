{
 "cells": [
  {
   "cell_type": "code",
   "execution_count": 3,
   "metadata": {},
   "outputs": [
    {
     "name": "stdout",
     "output_type": "stream",
     "text": [
      "3\n"
     ]
    }
   ],
   "source": [
    "# Problem A. Interactor\n",
    "\n",
    "def finmodule(endcode:int, inter_ver:int, checker_ver:int) -> int:\n",
    "    if inter_ver == 0:\n",
    "        if endcode == 0:\n",
    "            return checker_ver\n",
    "        return 3\n",
    "    if inter_ver == 1:\n",
    "        return checker_ver\n",
    "    if inter_ver == 4:\n",
    "        if endcode == 0:\n",
    "            return 4\n",
    "        return 3\n",
    "    if inter_ver == 6:\n",
    "        return 0\n",
    "    if inter_ver == 7:\n",
    "        return 1\n",
    "    return inter_ver\n",
    "\n",
    "endcode = int(input())\n",
    "inter_ver = int(input())\n",
    "checker_ver = int(input())\n",
    "ans = -1\n",
    "\n",
    "if inter_ver == 0:\n",
    "    if endcode == 0:\n",
    "        ans = checker_ver\n",
    "    else:\n",
    "        ans = 3\n",
    "elif inter_ver == 1:\n",
    "    ans = checker_ver\n",
    "elif inter_ver == 4:\n",
    "    if endcode == 0:\n",
    "        ans = 4\n",
    "    else:\n",
    "        ans = 3\n",
    "elif inter_ver == 6:\n",
    "    ans = 0\n",
    "elif inter_ver == 7:\n",
    "    ans = 1\n",
    "else:\n",
    "    ans = inter_ver\n",
    "\n",
    "print(ans)"
   ]
  },
  {
   "cell_type": "markdown",
   "metadata": {},
   "source": [
    "test"
   ]
  },
  {
   "cell_type": "code",
   "execution_count": 23,
   "metadata": {},
   "outputs": [
    {
     "name": "stdout",
     "output_type": "stream",
     "text": [
      "0\n"
     ]
    }
   ],
   "source": [
    "# Problem B. Кольцевая линия метро\n",
    "inp = input().split()\n",
    "N = int(inp[0])\n",
    "vi = int(inp[1])\n",
    "vj = int(inp[2])\n",
    "\n",
    "print(min(abs(vj-vi) - 1, min(vi,vj) + abs(N - max(vi,vj)) - 1))\n",
    "\n",
    "# 11 3 8 / 4\n",
    "# 2 1 2 / 0\n",
    "# 100 1 100 / 0"
   ]
  },
  {
   "cell_type": "code",
   "execution_count": 7,
   "metadata": {},
   "outputs": [
    {
     "name": "stdout",
     "output_type": "stream",
     "text": [
      "0\n"
     ]
    }
   ],
   "source": [
    "# Problem C. Даты\n",
    "inp = input().split()\n",
    "x = int(inp[0])\n",
    "y = int(inp[1])\n",
    "z = int(inp[2])\n",
    "\n",
    "if x < 13 and y < 13 and x != y:\n",
    "    print(\"0\")\n",
    "else:\n",
    "    print(\"1\")"
   ]
  },
  {
   "cell_type": "code",
   "execution_count": 22,
   "metadata": {},
   "outputs": [
    {
     "name": "stdout",
     "output_type": "stream",
     "text": [
      "5\n"
     ]
    }
   ],
   "source": [
    "# Problem D. Строительство школы\n",
    "N = int(input())\n",
    "homes = list((int(i) for i in input().split()))\n",
    "print(homes[N//2])"
   ]
  }
 ],
 "metadata": {
  "kernelspec": {
   "display_name": "Python 3.8.10 ('.venv': venv)",
   "language": "python",
   "name": "python3"
  },
  "language_info": {
   "codemirror_mode": {
    "name": "ipython",
    "version": 3
   },
   "file_extension": ".py",
   "mimetype": "text/x-python",
   "name": "python",
   "nbconvert_exporter": "python",
   "pygments_lexer": "ipython3",
   "version": "3.8.10"
  },
  "orig_nbformat": 4,
  "vscode": {
   "interpreter": {
    "hash": "e9d36532fffd548efe8ee939792dc84387746a306b39a1c3ac71901c80b91533"
   }
  }
 },
 "nbformat": 4,
 "nbformat_minor": 2
}
