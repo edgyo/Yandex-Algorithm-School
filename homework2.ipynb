{
 "cells": [
  {
   "cell_type": "code",
   "execution_count": 3,
   "metadata": {},
   "outputs": [
    {
     "name": "stdout",
     "output_type": "stream",
     "text": [
      "2\n"
     ]
    }
   ],
   "source": [
    "# Задача А. Количество равных максимальному\n",
    "ans = 0\n",
    "curr = 0\n",
    "while True:\n",
    "    inp = int(input())\n",
    "    if inp == 0:\n",
    "        break\n",
    "    if inp > curr:\n",
    "        curr = inp\n",
    "        ans = 1\n",
    "    elif inp == curr:\n",
    "        ans += 1\n",
    "print(ans)\n"
   ]
  },
  {
   "cell_type": "code",
   "execution_count": 9,
   "metadata": {},
   "outputs": [
    {
     "name": "stdout",
     "output_type": "stream",
     "text": [
      "10\n"
     ]
    }
   ],
   "source": [
    "# Задача B. Дома и магазины. Решение за О(nk), где k - кол-во домов.\n",
    "arr = list(input().split())\n",
    "curr_min = len(arr)\n",
    "ans = 0\n",
    "for i in range(len(arr)):\n",
    "    if arr[i] == \"1\":\n",
    "        for j in range(len(arr)):\n",
    "            if arr[j] == \"2\":\n",
    "                curr = abs(j-i)\n",
    "                if curr < curr_min:\n",
    "                    curr_min = curr\n",
    "    if curr_min > ans:\n",
    "        ans = curr_min\n",
    "print(ans)"
   ]
  }
 ],
 "metadata": {
  "kernelspec": {
   "display_name": "Python 3.8.10 64-bit",
   "language": "python",
   "name": "python3"
  },
  "language_info": {
   "codemirror_mode": {
    "name": "ipython",
    "version": 3
   },
   "file_extension": ".py",
   "mimetype": "text/x-python",
   "name": "python",
   "nbconvert_exporter": "python",
   "pygments_lexer": "ipython3",
   "version": "3.8.10"
  },
  "orig_nbformat": 4,
  "vscode": {
   "interpreter": {
    "hash": "916dbcbb3f70747c44a77c7bcd40155683ae19c65e1c03b4aa3499c5328201f1"
   }
  }
 },
 "nbformat": 4,
 "nbformat_minor": 2
}
