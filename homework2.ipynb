{
 "cells": [
  {
   "cell_type": "code",
   "execution_count": 3,
   "metadata": {},
   "outputs": [
    {
     "name": "stdout",
     "output_type": "stream",
     "text": [
      "2\n"
     ]
    }
   ],
   "source": [
    "# Задача А. Количество равных максимальному\n",
    "ans = 0\n",
    "curr = 0\n",
    "while True:\n",
    "    inp = int(input())\n",
    "    if inp == 0:\n",
    "        break\n",
    "    if inp > curr:\n",
    "        curr = inp\n",
    "        ans = 1\n",
    "    elif inp == curr:\n",
    "        ans += 1\n",
    "print(ans)\n"
   ]
  },
  {
   "cell_type": "code",
   "execution_count": 18,
   "metadata": {},
   "outputs": [
    {
     "name": "stdout",
     "output_type": "stream",
     "text": [
      "['2', '0', '1', '1', '0', '1', '0', '2', '1', '2']\n",
      "5\n"
     ]
    }
   ],
   "source": [
    "# Задача B. Дома и магазины.\n",
    "arr = list(input().split())\n",
    "last_shop_id = -1\n",
    "last_home_id = -1\n",
    "max_range = 0\n",
    "print(arr)\n",
    "for i in range(len(arr)):\n",
    "    if arr[i] == \"1\":\n",
    "        last_home_id = i\n",
    "        if last_shop_id != -1:\n",
    "            current_range = abs(last_home_id - last_shop_id)\n",
    "            if current_range > max_range:\n",
    "                max_range = current_range\n",
    "        \n",
    "    if arr[i] == \"2\":\n",
    "        last_shop_id = i\n",
    "        if last_home_id != -1:\n",
    "            current_range = abs(last_shop_id - last_home_id)\n",
    "            if current_range > max_range:\n",
    "                max_range = current_range\n",
    "\n",
    "print(max_range)"
   ]
  }
 ],
 "metadata": {
  "kernelspec": {
   "display_name": "Python 3.8.10 64-bit",
   "language": "python",
   "name": "python3"
  },
  "language_info": {
   "codemirror_mode": {
    "name": "ipython",
    "version": 3
   },
   "file_extension": ".py",
   "mimetype": "text/x-python",
   "name": "python",
   "nbconvert_exporter": "python",
   "pygments_lexer": "ipython3",
   "version": "3.8.10"
  },
  "orig_nbformat": 4,
  "vscode": {
   "interpreter": {
    "hash": "916dbcbb3f70747c44a77c7bcd40155683ae19c65e1c03b4aa3499c5328201f1"
   }
  }
 },
 "nbformat": 4,
 "nbformat_minor": 2
}
