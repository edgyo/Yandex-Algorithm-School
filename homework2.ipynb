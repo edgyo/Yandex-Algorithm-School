{
 "cells": [
  {
   "cell_type": "code",
   "execution_count": null,
   "metadata": {},
   "outputs": [],
   "source": [
    "# Задача А. Количество равных максимальному\n",
    "ans = 0\n",
    "curr = 0\n",
    "while True:\n",
    "    inp = int(input())\n",
    "    if inp == 0:\n",
    "        break\n",
    "    if inp > curr:\n",
    "        curr = inp\n",
    "        ans = 1\n",
    "    elif inp == curr:\n",
    "        ans += 1\n",
    "print(ans)\n"
   ]
  },
  {
   "cell_type": "code",
   "execution_count": null,
   "metadata": {},
   "outputs": [],
   "source": [
    "# Задача B. Дома и магазины. Решение за О(nk), где k - кол-во домов.\n",
    "# 2 0 1 1 0 1 0 2 1 2\n",
    "arr = list(input().split())\n",
    "curr_min = len(arr)\n",
    "ans = 0\n",
    "for i in range(len(arr)):\n",
    "    if arr[i] == \"1\":\n",
    "        for j in range(len(arr)):\n",
    "            if arr[j] == \"2\":\n",
    "                curr = abs(i-j)\n",
    "                if curr < curr_min:\n",
    "                    curr_min = curr\n",
    "        if curr_min > ans:\n",
    "            ans = curr_min\n",
    "        curr_min = len(arr)\n",
    "print(ans)"
   ]
  },
  {
   "cell_type": "code",
   "execution_count": null,
   "metadata": {},
   "outputs": [],
   "source": [
    "# Задача С. Изготовление палиндромов\n",
    "str_list = list(input())\n",
    "ans = 0\n",
    "if len(str_list) == 1:\n",
    "    print(\"0\")\n",
    "else:\n",
    "    for i in range(len(str_list) // 2):\n",
    "        if str_list[i] != str_list[len(str_list)-i-1]:\n",
    "            ans += 1\n",
    "    print(ans)\n"
   ]
  },
  {
   "cell_type": "code",
   "execution_count": 3,
   "metadata": {},
   "outputs": [
    {
     "name": "stdout",
     "output_type": "stream",
     "text": [
      "8 0\n"
     ]
    }
   ],
   "source": [
    "# Задача D. Лавочки в атриуме\n",
    "length, N = (int(i) for i in input().split())\n",
    "leg_list = list(int(i) for i in input().split())\n",
    "closest_left = 0\n",
    "closest_right = 0\n",
    "centre = length / 2\n",
    "\n",
    "for i in range(N):\n",
    "    if leg_list[i] > centre - 0.5 and leg_list[i] < centre + 0.5:\n",
    "        ans = leg_list[i]\n",
    "        break\n",
    "    elif leg_list[i] < centre - 0.5:\n",
    "        closest_left = leg_list[i]\n",
    "    elif leg_list[i] > centre + 0.5:\n",
    "        closest_left = leg_list[i]\n",
    "        ans = str(closest_left) + \" \" + str(closest_right)\n",
    "        break\n",
    "\n",
    "print(ans)"
   ]
  }
 ],
 "metadata": {
  "kernelspec": {
   "display_name": "Python 3.8.10 ('.venv': venv)",
   "language": "python",
   "name": "python3"
  },
  "language_info": {
   "codemirror_mode": {
    "name": "ipython",
    "version": 3
   },
   "file_extension": ".py",
   "mimetype": "text/x-python",
   "name": "python",
   "nbconvert_exporter": "python",
   "pygments_lexer": "ipython3",
   "version": "3.8.10"
  },
  "orig_nbformat": 4,
  "vscode": {
   "interpreter": {
    "hash": "e9d36532fffd548efe8ee939792dc84387746a306b39a1c3ac71901c80b91533"
   }
  }
 },
 "nbformat": 4,
 "nbformat_minor": 2
}
