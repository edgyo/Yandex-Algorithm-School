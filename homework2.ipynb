{
 "cells": [
  {
   "cell_type": "code",
   "execution_count": 5,
   "metadata": {},
   "outputs": [
    {
     "ename": "ValueError",
     "evalue": "invalid literal for int() with base 10: '2 0 1 1 0 1 0 2 1 2'",
     "output_type": "error",
     "traceback": [
      "\u001b[0;31m---------------------------------------------------------------------------\u001b[0m",
      "\u001b[0;31mValueError\u001b[0m                                Traceback (most recent call last)",
      "Cell \u001b[0;32mIn [5], line 5\u001b[0m\n\u001b[1;32m      3\u001b[0m curr \u001b[38;5;241m=\u001b[39m \u001b[38;5;241m0\u001b[39m\n\u001b[1;32m      4\u001b[0m \u001b[38;5;28;01mwhile\u001b[39;00m \u001b[38;5;28;01mTrue\u001b[39;00m:\n\u001b[0;32m----> 5\u001b[0m     inp \u001b[38;5;241m=\u001b[39m \u001b[38;5;28;43mint\u001b[39;49m\u001b[43m(\u001b[49m\u001b[38;5;28;43minput\u001b[39;49m\u001b[43m(\u001b[49m\u001b[43m)\u001b[49m\u001b[43m)\u001b[49m\n\u001b[1;32m      6\u001b[0m     \u001b[38;5;28;01mif\u001b[39;00m inp \u001b[38;5;241m==\u001b[39m \u001b[38;5;241m0\u001b[39m:\n\u001b[1;32m      7\u001b[0m         \u001b[38;5;28;01mbreak\u001b[39;00m\n",
      "\u001b[0;31mValueError\u001b[0m: invalid literal for int() with base 10: '2 0 1 1 0 1 0 2 1 2'"
     ]
    }
   ],
   "source": [
    "# Задача А. Количество равных максимальному\n",
    "ans = 0\n",
    "curr = 0\n",
    "while True:\n",
    "    inp = int(input())\n",
    "    if inp == 0:\n",
    "        break\n",
    "    if inp > curr:\n",
    "        curr = inp\n",
    "        ans = 1\n",
    "    elif inp == curr:\n",
    "        ans += 1\n",
    "print(ans)\n"
   ]
  },
  {
   "cell_type": "code",
   "execution_count": 21,
   "metadata": {},
   "outputs": [
    {
     "name": "stdout",
     "output_type": "stream",
     "text": [
      "2 True\n",
      "5 False\n",
      "7 False\n",
      "3 True\n",
      "4 False\n",
      "6 False\n",
      "5 True\n",
      "2 True\n",
      "4 False\n",
      "8 True\n",
      "1 True\n",
      "1 False\n",
      "3\n"
     ]
    }
   ],
   "source": [
    "# Задача B. Дома и магазины. Решение за О(nk), где k - кол-во домов.\n",
    "# 2 0 1 1 0 1 0 2 1 2\n",
    "arr = list(input().split())\n",
    "curr_min = len(arr)\n",
    "ans = 0\n",
    "for i in range(len(arr)):\n",
    "    if arr[i] == \"1\":\n",
    "        for j in range(len(arr)):\n",
    "            if arr[j] == \"2\":\n",
    "                curr = abs(i-j)\n",
    "                if curr < curr_min:\n",
    "                    curr_min = curr\n",
    "        if curr_min > ans:\n",
    "            ans = curr_min\n",
    "        curr_min = len(arr)\n",
    "print(ans)"
   ]
  }
 ],
 "metadata": {
  "kernelspec": {
   "display_name": "Python 3.8.10 64-bit",
   "language": "python",
   "name": "python3"
  },
  "language_info": {
   "codemirror_mode": {
    "name": "ipython",
    "version": 3
   },
   "file_extension": ".py",
   "mimetype": "text/x-python",
   "name": "python",
   "nbconvert_exporter": "python",
   "pygments_lexer": "ipython3",
   "version": "3.8.10"
  },
  "orig_nbformat": 4,
  "vscode": {
   "interpreter": {
    "hash": "916dbcbb3f70747c44a77c7bcd40155683ae19c65e1c03b4aa3499c5328201f1"
   }
  }
 },
 "nbformat": 4,
 "nbformat_minor": 2
}
