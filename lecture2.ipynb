{
 "cells": [
  {
   "cell_type": "markdown",
   "metadata": {},
   "source": [
    "# Линейный поиск\n",
    "\n",
    "## Классические задачи\n",
    "\n",
    "**Линейный поиск** - способ поиска, когда перебираются все элементы\n",
    "\n",
    "Сложность - О(н). Обычно ищут подходящий или наиболее подходящий элемент"
   ]
  },
  {
   "cell_type": "code",
   "execution_count": 9,
   "metadata": {},
   "outputs": [
    {
     "data": {
      "text/plain": [
       "0"
      ]
     },
     "execution_count": 9,
     "metadata": {},
     "output_type": "execute_result"
    }
   ],
   "source": [
    "# Дана последовательность N. Найти самое первое вхождение положительного числа х или вывести -1.\n",
    "\n",
    "def find_left(N:list,x:int) -> int:\n",
    "    for i in range(len(N)):\n",
    "        if N[i] == x:\n",
    "            return i\n",
    "    return -1\n",
    "\n",
    "find_left([1,2,3,4,1,5,6,35,34,23,44,47], 1)"
   ]
  }
 ],
 "metadata": {
  "kernelspec": {
   "display_name": "Python 3.8.10 ('.venv': venv)",
   "language": "python",
   "name": "python3"
  },
  "language_info": {
   "codemirror_mode": {
    "name": "ipython",
    "version": 3
   },
   "file_extension": ".py",
   "mimetype": "text/x-python",
   "name": "python",
   "nbconvert_exporter": "python",
   "pygments_lexer": "ipython3",
   "version": "3.8.10"
  },
  "orig_nbformat": 4,
  "vscode": {
   "interpreter": {
    "hash": "e9d36532fffd548efe8ee939792dc84387746a306b39a1c3ac71901c80b91533"
   }
  }
 },
 "nbformat": 4,
 "nbformat_minor": 2
}
